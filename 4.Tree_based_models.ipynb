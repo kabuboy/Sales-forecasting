{
 "cells": [
  {
   "cell_type": "code",
   "execution_count": 1,
   "metadata": {},
   "outputs": [],
   "source": [
    "import pandas as pd\n",
    "import numpy as np\n",
    "\n",
    "from sklearn.model_selection import train_test_split, cross_val_score, GridSearchCV\n",
    "from sklearn.tree import DecisionTreeRegressor, export_graphviz\n",
    "from sklearn.ensemble import RandomForestRegressor\n",
    "from sklearn.metrics import median_absolute_error, r2_score, mean_squared_error, mean_absolute_error\n",
    "from xgboost import XGBRegressor\n",
    "\n",
    "from math import sqrt\n",
    "import seaborn as sns\n",
    "import matplotlib.pyplot as plt\n",
    "\n",
    "import warnings\n",
    "warnings.filterwarnings('ignore')"
   ]
  },
  {
   "cell_type": "code",
   "execution_count": 2,
   "metadata": {},
   "outputs": [],
   "source": [
    "df = pd.read_pickle('data/data_after_feature_selection.pkl')"
   ]
  },
  {
   "cell_type": "code",
   "execution_count": 3,
   "metadata": {},
   "outputs": [
    {
     "name": "stdout",
     "output_type": "stream",
     "text": [
      "Rozmiar zbioru: \n",
      "Treningowego: 155\n",
      "Walidacyjnego 39\n"
     ]
    }
   ],
   "source": [
    "X = df.drop('Sztuk_sprzedanych_pierwsze_30_dni', axis=1)\n",
    "y = df['Sztuk_sprzedanych_pierwsze_30_dni']\n",
    "\n",
    "X_train, X_val, y_train, y_val = train_test_split(X, y, test_size=0.2, random_state=123)\n",
    "\n",
    "print('Rozmiar zbioru: \\nTreningowego: {}\\nWalidacyjnego {}'.format(len(X_train), len(X_val)))"
   ]
  },
  {
   "cell_type": "markdown",
   "metadata": {},
   "source": [
    "# Drzewo decyzyjne"
   ]
  },
  {
   "cell_type": "code",
   "execution_count": 4,
   "metadata": {},
   "outputs": [
    {
     "name": "stdout",
     "output_type": "stream",
     "text": [
      "Fitting 5 folds for each of 18 candidates, totalling 90 fits\n"
     ]
    },
    {
     "name": "stderr",
     "output_type": "stream",
     "text": [
      "[Parallel(n_jobs=1)]: Using backend SequentialBackend with 1 concurrent workers.\n"
     ]
    },
    {
     "name": "stdout",
     "output_type": "stream",
     "text": [
      "Best parameters set found on development set:\n",
      "\n",
      "{'max_depth': 2, 'min_samples_leaf': 1, 'min_samples_split': 5}\n"
     ]
    },
    {
     "name": "stderr",
     "output_type": "stream",
     "text": [
      "[Parallel(n_jobs=1)]: Done  90 out of  90 | elapsed:    0.5s finished\n"
     ]
    }
   ],
   "source": [
    "param_grid = { 'max_depth': range(2,4),\n",
    "               'min_samples_split': [2, 5, 10],\n",
    "               'min_samples_leaf': [1,2,4],}\n",
    "\n",
    "reg = GridSearchCV(DecisionTreeRegressor(), param_grid, cv=5, verbose=1)\n",
    "reg.fit(X_train, y_train)\n",
    "\n",
    "print(\"Best parameters set found on development set:\")\n",
    "print()\n",
    "print(reg.best_params_)"
   ]
  },
  {
   "cell_type": "code",
   "execution_count": 5,
   "metadata": {},
   "outputs": [
    {
     "name": "stdout",
     "output_type": "stream",
     "text": [
      "Drzewo decyzyjne\n",
      "RMSE\n",
      "50.7835354416969\n",
      "MeanAE:\n",
      "32.026787419275045\n",
      "MedianAE:\n",
      "17.209876543209873\n"
     ]
    }
   ],
   "source": [
    "regressor = DecisionTreeRegressor(**reg.best_params_)\n",
    "regressor.fit(X_train, y_train)\n",
    "y_pred = regressor.predict(X_val)\n",
    "\n",
    "print('Drzewo decyzyjne')\n",
    "print('RMSE')\n",
    "print(sqrt(mean_squared_error(y_val, y_pred)))\n",
    "print('MeanAE:')\n",
    "print(mean_absolute_error(y_val, y_pred))\n",
    "print('MedianAE:')\n",
    "print(median_absolute_error(y_val, y_pred))"
   ]
  },
  {
   "cell_type": "code",
   "execution_count": 6,
   "metadata": {},
   "outputs": [],
   "source": [
    "export_graphviz(regressor, out_file='tree',  \n",
    "                filled=True, rounded=True,\n",
    "                special_characters=True)"
   ]
  },
  {
   "cell_type": "markdown",
   "metadata": {},
   "source": [
    "![Drzewodecyzyjne](img/tree.png)"
   ]
  },
  {
   "cell_type": "markdown",
   "metadata": {},
   "source": [
    "# Las losowy"
   ]
  },
  {
   "cell_type": "code",
   "execution_count": 7,
   "metadata": {},
   "outputs": [
    {
     "name": "stderr",
     "output_type": "stream",
     "text": [
      "[Parallel(n_jobs=1)]: Using backend SequentialBackend with 1 concurrent workers.\n"
     ]
    },
    {
     "name": "stdout",
     "output_type": "stream",
     "text": [
      "Fitting 5 folds for each of 288 candidates, totalling 1440 fits\n",
      "Best parameters set found on development set:\n",
      "\n",
      "{'max_depth': 3, 'max_features': 'sqrt', 'min_samples_leaf': 4, 'min_samples_split': 2, 'n_estimators': 50}\n"
     ]
    },
    {
     "name": "stderr",
     "output_type": "stream",
     "text": [
      "[Parallel(n_jobs=1)]: Done 1440 out of 1440 | elapsed:  1.2min finished\n"
     ]
    }
   ],
   "source": [
    "param_grid = {'n_estimators': range(20,100,10),\n",
    "               'max_features': ['auto', 'sqrt'],\n",
    "               'max_depth': range(2,4),\n",
    "               'min_samples_split': [2, 5, 10],\n",
    "               'min_samples_leaf': [1,2,4],}\n",
    "\n",
    "reg = GridSearchCV(RandomForestRegressor(), param_grid, cv=5, verbose=1)\n",
    "reg.fit(X_train, y_train)\n",
    "\n",
    "print(\"Best parameters set found on development set:\")\n",
    "print()\n",
    "print(reg.best_params_)"
   ]
  },
  {
   "cell_type": "code",
   "execution_count": 8,
   "metadata": {},
   "outputs": [
    {
     "name": "stdout",
     "output_type": "stream",
     "text": [
      "Las losowy\n",
      "RMSE\n",
      "42.546129598308504\n",
      "MeanAE:\n",
      "28.139002716223303\n",
      "MedianAE:\n",
      "17.811692354715724\n"
     ]
    }
   ],
   "source": [
    "regressor = RandomForestRegressor(**reg.best_params_)\n",
    "regressor.fit(X_train, y_train)\n",
    "y_pred = regressor.predict(X_val)\n",
    "\n",
    "print('Las losowy')\n",
    "print('RMSE')\n",
    "print(sqrt(mean_squared_error(y_val, y_pred)))\n",
    "print('MeanAE:')\n",
    "print(mean_absolute_error(y_val, y_pred))\n",
    "print('MedianAE:')\n",
    "print(median_absolute_error(y_val, y_pred))"
   ]
  },
  {
   "cell_type": "markdown",
   "metadata": {},
   "source": [
    "# XGBoost"
   ]
  },
  {
   "cell_type": "code",
   "execution_count": 9,
   "metadata": {},
   "outputs": [
    {
     "name": "stderr",
     "output_type": "stream",
     "text": [
      "[Parallel(n_jobs=1)]: Using backend SequentialBackend with 1 concurrent workers.\n"
     ]
    },
    {
     "name": "stdout",
     "output_type": "stream",
     "text": [
      "Fitting 5 folds for each of 288 candidates, totalling 1440 fits\n",
      "Best parameters set found on development set:\n",
      "\n",
      "{'max_depth': 2, 'max_features': 'auto', 'min_samples_leaf': 1, 'min_samples_split': 2, 'n_estimators': 60}\n"
     ]
    },
    {
     "name": "stderr",
     "output_type": "stream",
     "text": [
      "[Parallel(n_jobs=1)]: Done 1440 out of 1440 | elapsed:   15.9s finished\n"
     ]
    }
   ],
   "source": [
    "param_grid = {'n_estimators': range(20,100,10),\n",
    "               'max_features': ['auto', 'sqrt'],\n",
    "               'max_depth': range(2,4),\n",
    "               'min_samples_split': [2, 5, 10],\n",
    "               'min_samples_leaf': [1,2,4],}\n",
    "\n",
    "reg = GridSearchCV(XGBRegressor(), param_grid, cv=5, verbose=1)\n",
    "reg.fit(X_train, y_train)\n",
    "\n",
    "print(\"Best parameters set found on development set:\")\n",
    "print()\n",
    "print(reg.best_params_)"
   ]
  },
  {
   "cell_type": "code",
   "execution_count": 10,
   "metadata": {},
   "outputs": [
    {
     "name": "stdout",
     "output_type": "stream",
     "text": [
      "XGBoost\n",
      "RMSE\n",
      "37.56839481492272\n",
      "MeanAE:\n",
      "26.726161369910606\n",
      "MedianAE:\n",
      "19.49247646331787\n"
     ]
    }
   ],
   "source": [
    "regressor = XGBRegressor(**reg.best_params_)\n",
    "regressor.fit(X_train, y_train)\n",
    "y_pred = regressor.predict(X_val)\n",
    "\n",
    "print('XGBoost')\n",
    "print('RMSE')\n",
    "print(sqrt(mean_squared_error(y_val, y_pred)))\n",
    "print('MeanAE:')\n",
    "print(mean_absolute_error(y_val, y_pred))\n",
    "print('MedianAE:')\n",
    "print(median_absolute_error(y_val, y_pred))"
   ]
  },
  {
   "cell_type": "code",
   "execution_count": null,
   "metadata": {},
   "outputs": [],
   "source": []
  },
  {
   "cell_type": "code",
   "execution_count": null,
   "metadata": {},
   "outputs": [],
   "source": []
  }
 ],
 "metadata": {
  "kernelspec": {
   "display_name": "Python 3",
   "language": "python",
   "name": "python3"
  },
  "language_info": {
   "codemirror_mode": {
    "name": "ipython",
    "version": 3
   },
   "file_extension": ".py",
   "mimetype": "text/x-python",
   "name": "python",
   "nbconvert_exporter": "python",
   "pygments_lexer": "ipython3",
   "version": "3.7.3"
  }
 },
 "nbformat": 4,
 "nbformat_minor": 2
}
