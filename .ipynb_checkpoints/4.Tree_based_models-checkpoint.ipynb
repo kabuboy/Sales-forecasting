{
 "cells": [
  {
   "cell_type": "markdown",
   "metadata": {},
   "source": [
    "# Modele bazowane na algorytmie drzewa decyzyjnego\n",
    "\n",
    "W tej części analiz skupię się na zbudowaniu jak najmocniejszego modelu bazującego na drzewie decyzyjnym. W pierwszej kolejności spróbujemy zbudować klasyczne i interpretowalne drzewo wraz z wizualizacją. Następnie sprawdzimy działanie lasów losowych i algorytmu XGBoost."
   ]
  },
  {
   "cell_type": "code",
   "execution_count": 1,
   "metadata": {},
   "outputs": [],
   "source": [
    "# Manipulacja danymi\n",
    "import pandas as pd\n",
    "import numpy as np\n",
    "from math import sqrt\n",
    "\n",
    "# Modele itp\n",
    "from sklearn.model_selection import train_test_split, cross_val_score, GridSearchCV\n",
    "from sklearn.tree import DecisionTreeRegressor, export_graphviz\n",
    "from sklearn.ensemble import RandomForestRegressor\n",
    "from sklearn.metrics import median_absolute_error, r2_score, mean_squared_error, mean_absolute_error\n",
    "from xgboost import XGBRegressor\n",
    "\n",
    "# Wizualizacja\n",
    "import seaborn as sns\n",
    "import matplotlib.pyplot as plt\n",
    "\n",
    "# Ignoruj ostrzeżenia (spam przy wyborze modeli)\n",
    "import warnings\n",
    "warnings.filterwarnings('ignore')"
   ]
  },
  {
   "cell_type": "code",
   "execution_count": 2,
   "metadata": {},
   "outputs": [],
   "source": [
    "df = pd.read_pickle('data/data_after_feature_selection.pkl')"
   ]
  },
  {
   "cell_type": "markdown",
   "metadata": {},
   "source": [
    "Po raz kolejny postaram się pozbyć obserwacji odchylonych. Pozwoli to uniknąć zaburzeń w funkcjonowaniu drzew. "
   ]
  },
  {
   "cell_type": "code",
   "execution_count": 3,
   "metadata": {},
   "outputs": [],
   "source": [
    "df = df[df['total_past_sales']<1500]"
   ]
  },
  {
   "cell_type": "markdown",
   "metadata": {},
   "source": [
    "Następnie zbuduję zbiór treningowy (152 obserwacje) na którym będziemy przeprowadzać optymalizację hiper parametrów i trenować model, oraz zbiór walidacyjny (40 obserwacji) za pomocą którego zweryfikujemy jakość zbudowanych przez nas modeli."
   ]
  },
  {
   "cell_type": "code",
   "execution_count": 4,
   "metadata": {},
   "outputs": [
    {
     "name": "stdout",
     "output_type": "stream",
     "text": [
      "Rozmiar zbioru: \n",
      "Treningowego: 148\n",
      "Walidacyjnego 38\n"
     ]
    }
   ],
   "source": [
    "X = df.drop('Sztuk_sprzedanych_pierwsze_30_dni', axis=1)\n",
    "y = df['Sztuk_sprzedanych_pierwsze_30_dni']\n",
    "\n",
    "X_train, X_val, y_train, y_val = train_test_split(X, y, test_size=0.2, random_state=123)\n",
    "\n",
    "print('Rozmiar zbioru: \\nTreningowego: {}\\nWalidacyjnego {}'.format(len(X_train), len(X_val)))"
   ]
  },
  {
   "cell_type": "markdown",
   "metadata": {},
   "source": [
    "# Drzewo decyzyjne"
   ]
  },
  {
   "cell_type": "markdown",
   "metadata": {},
   "source": [
    "Pierwszym podejściem jakie zastosuję jest klasyczne drzewo decyzyjne. Jest to prosty algorytm, który w teori powinien okazać się skuteczny w przypadku tak małego zbioru.\n",
    "\n",
    "Najpierw przeprowadzimy selekcję hiper parametrów drzewa - wybierzemy głębokość, minimalną ilość obserwacji potrzebnych do podziału i minimalną ilość obserwacji która znajdzie się w liściu. \n",
    "\n",
    "Do znalezienia odpowiednich parametrów wykorzystam model optymalizacji siatkowej wraz z 5krotną walidacją krzyżową. Następnie przy użyciu uzyskanych parametrów przetrenuję model na całym zbiorze treningowym i zweryfikuje uzyskane przez niego wyniki na zbiorze walidacyjnym."
   ]
  },
  {
   "cell_type": "code",
   "execution_count": 5,
   "metadata": {},
   "outputs": [
    {
     "name": "stdout",
     "output_type": "stream",
     "text": [
      "Fitting 5 folds for each of 512 candidates, totalling 2560 fits\n"
     ]
    },
    {
     "name": "stderr",
     "output_type": "stream",
     "text": [
      "[Parallel(n_jobs=1)]: Using backend SequentialBackend with 1 concurrent workers.\n"
     ]
    },
    {
     "name": "stdout",
     "output_type": "stream",
     "text": [
      "Best parameters set found on development set:\n",
      "\n",
      "{'max_depth': 2, 'min_samples_leaf': 2, 'min_samples_split': 2}\n"
     ]
    },
    {
     "name": "stderr",
     "output_type": "stream",
     "text": [
      "[Parallel(n_jobs=1)]: Done 2560 out of 2560 | elapsed:   18.3s finished\n"
     ]
    }
   ],
   "source": [
    "param_grid = { 'max_depth': range(2,10),\n",
    "               'min_samples_split': range(2,10),\n",
    "               'min_samples_leaf': range (2,10),}\n",
    "\n",
    "reg = GridSearchCV(DecisionTreeRegressor(), param_grid, cv=5, verbose=1)\n",
    "reg.fit(X_train, y_train)\n",
    "\n",
    "print(\"Best parameters set found on development set:\")\n",
    "print()\n",
    "print(reg.best_params_)"
   ]
  },
  {
   "cell_type": "code",
   "execution_count": 6,
   "metadata": {},
   "outputs": [
    {
     "name": "stdout",
     "output_type": "stream",
     "text": [
      "Drzewo decyzyjne\n",
      "RMSE\n",
      "47.05509424359262\n",
      "MeanAE:\n",
      "33.06119506687512\n",
      "MedianAE:\n",
      "29.0\n"
     ]
    }
   ],
   "source": [
    "regressor = DecisionTreeRegressor(**reg.best_params_)\n",
    "regressor.fit(X_train, y_train)\n",
    "y_pred = regressor.predict(X_val)\n",
    "\n",
    "print('Drzewo decyzyjne')\n",
    "print('RMSE')\n",
    "print(sqrt(mean_squared_error(y_val, y_pred)))\n",
    "print('MeanAE:')\n",
    "print(mean_absolute_error(y_val, y_pred))\n",
    "print('MedianAE:')\n",
    "print(median_absolute_error(y_val, y_pred))"
   ]
  },
  {
   "cell_type": "markdown",
   "metadata": {},
   "source": [
    "Niestety rezultaty uzyskane przy użyciu drzewa są rozczarowujące. Uzyskany wynik jest nieznacznien niższy od odchylenia standardowego y'ka."
   ]
  },
  {
   "cell_type": "code",
   "execution_count": 7,
   "metadata": {},
   "outputs": [
    {
     "data": {
      "text/plain": [
       "49.981464708474"
      ]
     },
     "execution_count": 7,
     "metadata": {},
     "output_type": "execute_result"
    }
   ],
   "source": [
    "np.std(y_val)"
   ]
  },
  {
   "cell_type": "markdown",
   "metadata": {},
   "source": [
    "Zwizualizuję drzewo, żeby sprawdzić jak dokładnie wygląda jego konstrukcja."
   ]
  },
  {
   "cell_type": "code",
   "execution_count": 8,
   "metadata": {},
   "outputs": [],
   "source": [
    "export_graphviz(regressor, out_file='tree',  \n",
    "                filled=True, rounded=True,\n",
    "                special_characters=True)"
   ]
  },
  {
   "cell_type": "markdown",
   "metadata": {},
   "source": [
    "![Drzewodecyzyjne](img/tree.png)"
   ]
  },
  {
   "cell_type": "markdown",
   "metadata": {},
   "source": [
    "Widzimy, że drzewo nie jest w stanie podzielić obserwacji na grupy o niskim MSE. Jedyny liść w którym mse jest niskie wynika z przydzielenia do niego obserwacji o bardzo niskiej historycznej sprzedaży(total_past_sales). Przejdziemy do kolejnych modeli."
   ]
  },
  {
   "cell_type": "markdown",
   "metadata": {},
   "source": [
    "# Las losowy"
   ]
  },
  {
   "cell_type": "markdown",
   "metadata": {},
   "source": [
    "Kolejnym modelem jest las losowy. Zastosuję takie samo podejście jak w przypadku drzewa. \n",
    "\n",
    "Najpierw przeprowadzimy selekcję hiper parametrów lasu - wybierzemy głębokość, minimalną ilość obserwacji potrzebnych do podziału i minimalną ilość obserwacji która znajdzie się w liściu. Dodatkowo sprawdzimy optymalną ilość zmiennych w modelu oraz liczbę tworzonych drzew.\n",
    "\n",
    "Do znalezienia odpowiednich parametrów po raz kolejny wykorzystam optymalizację siatkową wraz z 5krotną walidacją krzyżową. Następnie przy użyciu uzyskanych parametrów przetrenuję model na całym zbiorze treningowym i zweryfikuje uzyskane przez niego wyniki na zbiorze walidacyjnym."
   ]
  },
  {
   "cell_type": "code",
   "execution_count": 9,
   "metadata": {},
   "outputs": [
    {
     "name": "stderr",
     "output_type": "stream",
     "text": [
      "[Parallel(n_jobs=1)]: Using backend SequentialBackend with 1 concurrent workers.\n"
     ]
    },
    {
     "name": "stdout",
     "output_type": "stream",
     "text": [
      "Fitting 5 folds for each of 4096 candidates, totalling 20480 fits\n",
      "Best parameters set found on development set:\n",
      "\n",
      "{'max_depth': 9, 'max_features': 1, 'min_samples_leaf': 2, 'min_samples_split': 15, 'n_estimators': 30}\n"
     ]
    },
    {
     "name": "stderr",
     "output_type": "stream",
     "text": [
      "[Parallel(n_jobs=1)]: Done 20480 out of 20480 | elapsed: 20.0min finished\n"
     ]
    }
   ],
   "source": [
    "param_grid = {'n_estimators': range(20,100,10),\n",
    "               'max_features': range(1,5),\n",
    "               'max_depth': range(2,10),\n",
    "               'min_samples_split': [2, 5, 10, 15],\n",
    "               'min_samples_leaf': [1,2,4, 8],}\n",
    "\n",
    "reg = GridSearchCV(RandomForestRegressor(), param_grid, cv=5, verbose=1)\n",
    "reg.fit(X_train, y_train)\n",
    "\n",
    "print(\"Best parameters set found on development set:\")\n",
    "print()\n",
    "print(reg.best_params_)"
   ]
  },
  {
   "cell_type": "code",
   "execution_count": 10,
   "metadata": {},
   "outputs": [
    {
     "name": "stdout",
     "output_type": "stream",
     "text": [
      "Las losowy\n",
      "RMSE\n",
      "40.48730005951214\n",
      "MeanAE:\n",
      "29.313474310606267\n",
      "MedianAE:\n",
      "22.19054933328152\n"
     ]
    }
   ],
   "source": [
    "regressor = RandomForestRegressor(**reg.best_params_)\n",
    "regressor.fit(X_train, y_train)\n",
    "y_pred = regressor.predict(X_val)\n",
    "\n",
    "print('Las losowy')\n",
    "print('RMSE')\n",
    "print(sqrt(mean_squared_error(y_val, y_pred)))\n",
    "print('MeanAE:')\n",
    "print(mean_absolute_error(y_val, y_pred))\n",
    "print('MedianAE:')\n",
    "print(median_absolute_error(y_val, y_pred))"
   ]
  },
  {
   "cell_type": "markdown",
   "metadata": {},
   "source": [
    "Mimo tego, że rezultaty są lepsze niż w przypadku drzewa dalej są wysoce niezadawalające. RMSE wynosi 40, które w przypadku opisywanej przez nas zmiennej jest liczbą bardzo wysoką."
   ]
  },
  {
   "cell_type": "markdown",
   "metadata": {},
   "source": [
    "# XGBoost\n",
    "\n",
    "Ostatnim sprawdzanym przeze mnie modelem jest bardzo popularny XGBoost. Procedura optymalizaji jego hiper parametrów przebiegać będzie w dokładnie taki sam sposób jak w przypadku pozostałych algorytmów. "
   ]
  },
  {
   "cell_type": "code",
   "execution_count": 11,
   "metadata": {},
   "outputs": [
    {
     "name": "stderr",
     "output_type": "stream",
     "text": [
      "[Parallel(n_jobs=1)]: Using backend SequentialBackend with 1 concurrent workers.\n"
     ]
    },
    {
     "name": "stdout",
     "output_type": "stream",
     "text": [
      "Fitting 5 folds for each of 4096 candidates, totalling 20480 fits\n",
      "Best parameters set found on development set:\n",
      "\n",
      "{'max_depth': 2, 'max_features': 1, 'min_samples_leaf': 1, 'min_samples_split': 2, 'n_estimators': 20}\n"
     ]
    },
    {
     "name": "stderr",
     "output_type": "stream",
     "text": [
      "[Parallel(n_jobs=1)]: Done 20480 out of 20480 | elapsed:  6.5min finished\n"
     ]
    }
   ],
   "source": [
    "param_grid = {'n_estimators': range(20,100,10),\n",
    "               'max_features': range(1,5),\n",
    "               'max_depth': range(2,10),\n",
    "               'min_samples_split': [2, 5, 10, 15],\n",
    "               'min_samples_leaf': [1,2,4, 8],}\n",
    "\n",
    "reg = GridSearchCV(XGBRegressor(), param_grid, cv=5, verbose=1)\n",
    "reg.fit(X_train, y_train)\n",
    "\n",
    "print(\"Best parameters set found on development set:\")\n",
    "print()\n",
    "print(reg.best_params_)"
   ]
  },
  {
   "cell_type": "code",
   "execution_count": 12,
   "metadata": {},
   "outputs": [
    {
     "name": "stdout",
     "output_type": "stream",
     "text": [
      "XGBoost\n",
      "RMSE\n",
      "43.22057355918561\n",
      "MeanAE:\n",
      "30.363772015822562\n",
      "MedianAE:\n",
      "22.647388458251953\n"
     ]
    }
   ],
   "source": [
    "regressor = XGBRegressor(**reg.best_params_)\n",
    "regressor.fit(X_train, y_train)\n",
    "y_pred = regressor.predict(X_val)\n",
    "\n",
    "print('XGBoost')\n",
    "print('RMSE')\n",
    "print(sqrt(mean_squared_error(y_val, y_pred)))\n",
    "print('MeanAE:')\n",
    "print(mean_absolute_error(y_val, y_pred))\n",
    "print('MedianAE:')\n",
    "print(median_absolute_error(y_val, y_pred))"
   ]
  },
  {
   "cell_type": "markdown",
   "metadata": {},
   "source": [
    "Po raz kolejny, mimo budowy skomplikowanego modelu uzyskujemy bardzo wysokie RMSE."
   ]
  },
  {
   "cell_type": "markdown",
   "metadata": {},
   "source": [
    "# Podsumowanie\n",
    "\n",
    "Niestety **żaden z uzyskanych rezultatów nie jest satysfakcjonujący**. W przypadku **metod liniowych** najlepszy uzyskany wynik to **RMSE=44** w przypadku regresji grzbietowej bez transformacji zmiennej objaśnianej. W przypadku **lasu losowego** udało się uzyskać **RMSE=40**, co było najwyższym wynikiem spośród modeli bazowanych na drzewach. Uzyskane wyniki nie pozwalają na praktyczne używanie modeli do celów predykcyjnych - są tylko nieznacznie lepsze od **predykcji średnią** która uzyskuje **RMSE=50**.\n",
    "\n",
    "Kolejnymi krokami, które moglibyśmy poczynić w celu poprawy ich jakości byłoby **zwiększenie wolumenu danych**. 202 obserwacje to bardzo mała próba w przypadku której budowanie zaawansowanych modelów mija się praktycznie z celem. \n",
    "Warto zwrócić uwagę, że pomineliśmy cenne informacje z kolumn **kategoria i marka**. Prawdopodobnie stosując OneHotEncoding albo inną transformację i wrzucając te zmienne do modelu usyskalibyśmy znacznie lepsze wyniki. Niestety wystąpiłoby wtedy bardzo duże ryzyko overfittu. W przypadku tak małego zbioru danych **nie bylibyśmy w stanie go zwerfyfikować**. Stąd jest duża szansa, że zwiększenie liczby obserwacji zaaowocowałoby dużo lepszymi rezultatami, lecz w przypadku zadanego zbioru ryzyko takiego podejścia jest zbyt duże."
   ]
  }
 ],
 "metadata": {
  "kernelspec": {
   "display_name": "Python 3",
   "language": "python",
   "name": "python3"
  },
  "language_info": {
   "codemirror_mode": {
    "name": "ipython",
    "version": 3
   },
   "file_extension": ".py",
   "mimetype": "text/x-python",
   "name": "python",
   "nbconvert_exporter": "python",
   "pygments_lexer": "ipython3",
   "version": "3.7.3"
  }
 },
 "nbformat": 4,
 "nbformat_minor": 2
}
